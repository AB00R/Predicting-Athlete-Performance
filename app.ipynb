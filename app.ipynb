{
 "cells": [
  {
   "cell_type": "markdown",
   "id": "9088ccd4",
   "metadata": {},
   "source": [
    "# Predicting Athlete Performance and Assessing Injury Risk"
   ]
  },
  {
   "cell_type": "markdown",
   "id": "724fc103",
   "metadata": {},
   "source": [
    "### Necessary Libraries"
   ]
  },
  {
   "cell_type": "code",
   "execution_count": null,
   "id": "8281ed9e",
   "metadata": {},
   "outputs": [],
   "source": [
    "import"
   ]
  },
  {
   "cell_type": "markdown",
   "id": "6702dab4",
   "metadata": {},
   "source": [
    "### State Class"
   ]
  },
  {
   "cell_type": "code",
   "execution_count": null,
   "id": "c5c4055f",
   "metadata": {},
   "outputs": [],
   "source": [
    "class State:\n",
    "    \"\"\"\n",
    "    Represents a state in the training schedule search space.\n",
    "    \n",
    "    Attributes:\n",
    "        day (int): Current day in the schedule\n",
    "        fatigue_level (float): Current fatigue level\n",
    "        injury_risk (float): Current injury risk\n",
    "        performance (float): Current performance level\n",
    "    \"\"\"\n",
    "    def __init__(self, day=0, fatigue_level=0.0, injury_risk=0.0, performance=0.0):\n",
    "        self.day = day\n",
    "        self.fatigue_level = fatigue_level\n",
    "        self.injury_risk = injury_risk\n",
    "        self.performance = performance\n",
    "    \n",
    "    def is_goal(self, max_days, max_risk):\n",
    "        \"\"\"Check if this state is a goal state.\"\"\"\n",
    "        return self.day == max_days\n",
    "    \n",
    "    def __eq__(self, other):\n",
    "        if not isinstance(other, State):\n",
    "            return False\n",
    "        return (self.day == other.day and \n",
    "                self.fatigue_level == other.fatigue_level and\n",
    "                self.injury_risk == other.injury_risk and \n",
    "                self.performance == other.performance)\n",
    "    \n",
    "    def __hash__(self):\n",
    "        return hash((self.day, self.fatigue_level, self.injury_risk, self.performance))\n"
   ]
  }
 ],
 "metadata": {
  "kernelspec": {
   "display_name": "base",
   "language": "python",
   "name": "python3"
  },
  "language_info": {
   "name": "python",
   "version": "3.12.7"
  }
 },
 "nbformat": 4,
 "nbformat_minor": 5
}
