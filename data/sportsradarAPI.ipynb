{
 "cells": [
  {
   "cell_type": "code",
   "execution_count": 3,
   "metadata": {},
   "outputs": [
    {
     "name": "stdout",
     "output_type": "stream",
     "text": [
      "\n",
      "    <!DOCTYPE html>\n",
      "    <html lang=\"en\">\n",
      "      <head>\n",
      "        <meta charset=\"utf-8\">\n",
      "        <title>Authentication Error</title>\n",
      "      </head>\n",
      "      <body>\n",
      "        <p>Authentication Error</p>\n",
      "      </body>\n",
      "    </html>\n",
      "    \n"
     ]
    }
   ],
   "source": [
    "import requests\n",
    "\n",
    "api_key = 'PHL4i9orX3dlp8rIyQxOlaNUAt2vcAOtRsLalsfk'\n",
    "url = 'https://api.sportradar.com/soccer/trial/v4/en/competitions.json'\n",
    "headers = {\n",
    "    'Authorization': f'Bearer {api_key}'\n",
    "}\n",
    "response = requests.get(url, headers=headers)\n",
    "print(response.text)\n"
   ]
  }
 ],
 "metadata": {
  "kernelspec": {
   "display_name": "Python 3",
   "language": "python",
   "name": "python3"
  },
  "language_info": {
   "codemirror_mode": {
    "name": "ipython",
    "version": 3
   },
   "file_extension": ".py",
   "mimetype": "text/x-python",
   "name": "python",
   "nbconvert_exporter": "python",
   "pygments_lexer": "ipython3",
   "version": "3.8.20"
  }
 },
 "nbformat": 4,
 "nbformat_minor": 2
}
